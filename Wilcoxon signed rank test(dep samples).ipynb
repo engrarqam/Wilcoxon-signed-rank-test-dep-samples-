{
 "cells": [
  {
   "cell_type": "code",
   "execution_count": 1,
   "id": "fdf802f7",
   "metadata": {},
   "outputs": [],
   "source": [
    "import pandas as pd\n",
    "import numpy as np\n",
    "import seaborn as sns\n",
    "import matplotlib.pyplot as plt"
   ]
  },
  {
   "cell_type": "code",
   "execution_count": 2,
   "id": "3ca29fa1",
   "metadata": {
    "scrolled": true
   },
   "outputs": [
    {
     "data": {
      "text/html": [
       "<div>\n",
       "<style scoped>\n",
       "    .dataframe tbody tr th:only-of-type {\n",
       "        vertical-align: middle;\n",
       "    }\n",
       "\n",
       "    .dataframe tbody tr th {\n",
       "        vertical-align: top;\n",
       "    }\n",
       "\n",
       "    .dataframe thead th {\n",
       "        text-align: right;\n",
       "    }\n",
       "</style>\n",
       "<table border=\"1\" class=\"dataframe\">\n",
       "  <thead>\n",
       "    <tr style=\"text-align: right;\">\n",
       "      <th></th>\n",
       "      <th>mine_before</th>\n",
       "      <th>mine_after</th>\n",
       "    </tr>\n",
       "  </thead>\n",
       "  <tbody>\n",
       "    <tr>\n",
       "      <th>0</th>\n",
       "      <td>23</td>\n",
       "      <td>46</td>\n",
       "    </tr>\n",
       "    <tr>\n",
       "      <th>1</th>\n",
       "      <td>21</td>\n",
       "      <td>42</td>\n",
       "    </tr>\n",
       "    <tr>\n",
       "      <th>2</th>\n",
       "      <td>31</td>\n",
       "      <td>62</td>\n",
       "    </tr>\n",
       "    <tr>\n",
       "      <th>3</th>\n",
       "      <td>20</td>\n",
       "      <td>40</td>\n",
       "    </tr>\n",
       "    <tr>\n",
       "      <th>4</th>\n",
       "      <td>19</td>\n",
       "      <td>38</td>\n",
       "    </tr>\n",
       "    <tr>\n",
       "      <th>5</th>\n",
       "      <td>35</td>\n",
       "      <td>70</td>\n",
       "    </tr>\n",
       "    <tr>\n",
       "      <th>6</th>\n",
       "      <td>26</td>\n",
       "      <td>52</td>\n",
       "    </tr>\n",
       "    <tr>\n",
       "      <th>7</th>\n",
       "      <td>22</td>\n",
       "      <td>44</td>\n",
       "    </tr>\n",
       "    <tr>\n",
       "      <th>8</th>\n",
       "      <td>21</td>\n",
       "      <td>42</td>\n",
       "    </tr>\n",
       "    <tr>\n",
       "      <th>9</th>\n",
       "      <td>19</td>\n",
       "      <td>38</td>\n",
       "    </tr>\n",
       "  </tbody>\n",
       "</table>\n",
       "</div>"
      ],
      "text/plain": [
       "   mine_before  mine_after\n",
       "0           23          46\n",
       "1           21          42\n",
       "2           31          62\n",
       "3           20          40\n",
       "4           19          38\n",
       "5           35          70\n",
       "6           26          52\n",
       "7           22          44\n",
       "8           21          42\n",
       "9           19          38"
      ]
     },
     "execution_count": 2,
     "metadata": {},
     "output_type": "execute_result"
    }
   ],
   "source": [
    "df = pd.read_csv(\"wilcoxon-signed.csv\")\n",
    "df"
   ]
  },
  {
   "cell_type": "code",
   "execution_count": 3,
   "id": "546924fb",
   "metadata": {
    "scrolled": true
   },
   "outputs": [
    {
     "data": {
      "text/html": [
       "<div>\n",
       "<style scoped>\n",
       "    .dataframe tbody tr th:only-of-type {\n",
       "        vertical-align: middle;\n",
       "    }\n",
       "\n",
       "    .dataframe tbody tr th {\n",
       "        vertical-align: top;\n",
       "    }\n",
       "\n",
       "    .dataframe thead th {\n",
       "        text-align: right;\n",
       "    }\n",
       "</style>\n",
       "<table border=\"1\" class=\"dataframe\">\n",
       "  <thead>\n",
       "    <tr style=\"text-align: right;\">\n",
       "      <th></th>\n",
       "      <th>players</th>\n",
       "      <th>scores</th>\n",
       "    </tr>\n",
       "  </thead>\n",
       "  <tbody>\n",
       "    <tr>\n",
       "      <th>0</th>\n",
       "      <td>mine_before</td>\n",
       "      <td>23</td>\n",
       "    </tr>\n",
       "    <tr>\n",
       "      <th>1</th>\n",
       "      <td>mine_after</td>\n",
       "      <td>46</td>\n",
       "    </tr>\n",
       "    <tr>\n",
       "      <th>2</th>\n",
       "      <td>mine_before</td>\n",
       "      <td>21</td>\n",
       "    </tr>\n",
       "    <tr>\n",
       "      <th>3</th>\n",
       "      <td>mine_after</td>\n",
       "      <td>42</td>\n",
       "    </tr>\n",
       "    <tr>\n",
       "      <th>4</th>\n",
       "      <td>mine_before</td>\n",
       "      <td>31</td>\n",
       "    </tr>\n",
       "    <tr>\n",
       "      <th>5</th>\n",
       "      <td>mine_after</td>\n",
       "      <td>62</td>\n",
       "    </tr>\n",
       "    <tr>\n",
       "      <th>6</th>\n",
       "      <td>mine_before</td>\n",
       "      <td>20</td>\n",
       "    </tr>\n",
       "    <tr>\n",
       "      <th>7</th>\n",
       "      <td>mine_after</td>\n",
       "      <td>40</td>\n",
       "    </tr>\n",
       "    <tr>\n",
       "      <th>8</th>\n",
       "      <td>mine_before</td>\n",
       "      <td>19</td>\n",
       "    </tr>\n",
       "    <tr>\n",
       "      <th>9</th>\n",
       "      <td>mine_after</td>\n",
       "      <td>38</td>\n",
       "    </tr>\n",
       "    <tr>\n",
       "      <th>10</th>\n",
       "      <td>mine_before</td>\n",
       "      <td>35</td>\n",
       "    </tr>\n",
       "    <tr>\n",
       "      <th>11</th>\n",
       "      <td>mine_after</td>\n",
       "      <td>70</td>\n",
       "    </tr>\n",
       "    <tr>\n",
       "      <th>12</th>\n",
       "      <td>mine_before</td>\n",
       "      <td>26</td>\n",
       "    </tr>\n",
       "    <tr>\n",
       "      <th>13</th>\n",
       "      <td>mine_after</td>\n",
       "      <td>52</td>\n",
       "    </tr>\n",
       "    <tr>\n",
       "      <th>14</th>\n",
       "      <td>mine_before</td>\n",
       "      <td>22</td>\n",
       "    </tr>\n",
       "    <tr>\n",
       "      <th>15</th>\n",
       "      <td>mine_after</td>\n",
       "      <td>44</td>\n",
       "    </tr>\n",
       "    <tr>\n",
       "      <th>16</th>\n",
       "      <td>mine_before</td>\n",
       "      <td>21</td>\n",
       "    </tr>\n",
       "    <tr>\n",
       "      <th>17</th>\n",
       "      <td>mine_after</td>\n",
       "      <td>42</td>\n",
       "    </tr>\n",
       "    <tr>\n",
       "      <th>18</th>\n",
       "      <td>mine_before</td>\n",
       "      <td>19</td>\n",
       "    </tr>\n",
       "    <tr>\n",
       "      <th>19</th>\n",
       "      <td>mine_after</td>\n",
       "      <td>38</td>\n",
       "    </tr>\n",
       "  </tbody>\n",
       "</table>\n",
       "</div>"
      ],
      "text/plain": [
       "        players  scores\n",
       "0   mine_before      23\n",
       "1    mine_after      46\n",
       "2   mine_before      21\n",
       "3    mine_after      42\n",
       "4   mine_before      31\n",
       "5    mine_after      62\n",
       "6   mine_before      20\n",
       "7    mine_after      40\n",
       "8   mine_before      19\n",
       "9    mine_after      38\n",
       "10  mine_before      35\n",
       "11   mine_after      70\n",
       "12  mine_before      26\n",
       "13   mine_after      52\n",
       "14  mine_before      22\n",
       "15   mine_after      44\n",
       "16  mine_before      21\n",
       "17   mine_after      42\n",
       "18  mine_before      19\n",
       "19   mine_after      38"
      ]
     },
     "execution_count": 3,
     "metadata": {},
     "output_type": "execute_result"
    }
   ],
   "source": [
    "group_df = df.stack().to_frame().reset_index().rename(columns={'level_1':'players', 0:'scores'})\n",
    "del group_df['level_0']\n",
    "group_df"
   ]
  },
  {
   "cell_type": "markdown",
   "id": "3e07363f",
   "metadata": {},
   "source": [
    "## Visualization"
   ]
  },
  {
   "cell_type": "code",
   "execution_count": 4,
   "id": "592826e7",
   "metadata": {},
   "outputs": [
    {
     "data": {
      "text/plain": [
       "<AxesSubplot:xlabel='players', ylabel='scores'>"
      ]
     },
     "execution_count": 4,
     "metadata": {},
     "output_type": "execute_result"
    },
    {
     "data": {
      "image/png": "[encoded data removed]",
      "text/plain": [
       "<Figure size 720x432 with 1 Axes>"
      ]
     },
     "metadata": {
      "needs_background": "light"
     },
     "output_type": "display_data"
    }
   ],
   "source": [
    "#Create a boxplot\n",
    "plt.figure(figsize=(10, 6))\n",
    "ax = sns.boxplot(x=\"players\", y=\"scores\", data=group_df)\n",
    "ax"
   ]
  },
  {
   "cell_type": "markdown",
   "id": "5e589657",
   "metadata": {},
   "source": [
    "## Summary Statistics"
   ]
  },
  {
   "cell_type": "code",
   "execution_count": 5,
   "id": "e853de23",
   "metadata": {},
   "outputs": [
    {
     "data": {
      "text/html": [
       "<div>\n",
       "<style scoped>\n",
       "    .dataframe tbody tr th:only-of-type {\n",
       "        vertical-align: middle;\n",
       "    }\n",
       "\n",
       "    .dataframe tbody tr th {\n",
       "        vertical-align: top;\n",
       "    }\n",
       "\n",
       "    .dataframe thead th {\n",
       "        text-align: right;\n",
       "    }\n",
       "</style>\n",
       "<table border=\"1\" class=\"dataframe\">\n",
       "  <thead>\n",
       "    <tr style=\"text-align: right;\">\n",
       "      <th></th>\n",
       "      <th>count</th>\n",
       "      <th>std</th>\n",
       "      <th>mean</th>\n",
       "    </tr>\n",
       "    <tr>\n",
       "      <th>players</th>\n",
       "      <th></th>\n",
       "      <th></th>\n",
       "      <th></th>\n",
       "    </tr>\n",
       "  </thead>\n",
       "  <tbody>\n",
       "    <tr>\n",
       "      <th>mine_after</th>\n",
       "      <td>10</td>\n",
       "      <td>10.793002</td>\n",
       "      <td>47.4</td>\n",
       "    </tr>\n",
       "    <tr>\n",
       "      <th>mine_before</th>\n",
       "      <td>10</td>\n",
       "      <td>5.396501</td>\n",
       "      <td>23.7</td>\n",
       "    </tr>\n",
       "  </tbody>\n",
       "</table>\n",
       "</div>"
      ],
      "text/plain": [
       "             count        std  mean\n",
       "players                            \n",
       "mine_after      10  10.793002  47.4\n",
       "mine_before     10   5.396501  23.7"
      ]
     },
     "execution_count": 5,
     "metadata": {},
     "output_type": "execute_result"
    }
   ],
   "source": [
    "stats = group_df.groupby('players')['scores'].agg(['count', 'std', 'mean'])\n",
    "stats"
   ]
  },
  {
   "cell_type": "markdown",
   "id": "0ddf9028",
   "metadata": {},
   "source": [
    "## Two Samples T Computation"
   ]
  },
  {
   "cell_type": "code",
   "execution_count": 6,
   "id": "d71e53e2",
   "metadata": {},
   "outputs": [],
   "source": [
    "# ‘two-sided’: the means of the distributions underlying the samples are unequal."
   ]
  },
  {
   "cell_type": "code",
   "execution_count": 7,
   "id": "ba714426",
   "metadata": {
    "scrolled": true
   },
   "outputs": [
    {
     "data": {
      "text/plain": [
       "WilcoxonResult(statistic=0.0, pvalue=0.001953125)"
      ]
     },
     "execution_count": 7,
     "metadata": {},
     "output_type": "execute_result"
    }
   ],
   "source": [
    "import scipy.stats as stats\n",
    "stats.wilcoxon(df['mine_before'], df['mine_after'], zero_method='wilcox', correction=False, alternative='two-sided')"
   ]
  },
  {
   "cell_type": "code",
   "execution_count": 8,
   "id": "9e49d11b",
   "metadata": {},
   "outputs": [],
   "source": [
    "# ‘less’: the mean of the distribution underlying the first sample is less than the mean of the distribution underlying the second sample."
   ]
  },
  {
   "cell_type": "code",
   "execution_count": 9,
   "id": "ff3bb004",
   "metadata": {},
   "outputs": [
    {
     "data": {
      "text/plain": [
       "WilcoxonResult(statistic=0.0, pvalue=0.0009765625)"
      ]
     },
     "execution_count": 9,
     "metadata": {},
     "output_type": "execute_result"
    }
   ],
   "source": [
    "import scipy.stats as stats\n",
    "stats.wilcoxon(df['mine_before'], df['mine_after'], zero_method='wilcox', correction=False, alternative='less')"
   ]
  },
  {
   "cell_type": "code",
   "execution_count": 10,
   "id": "03224663",
   "metadata": {},
   "outputs": [],
   "source": [
    "# ‘greater’: the mean of the distribution underlying the first sample is greater than the mean of the distribution underlying the second sample."
   ]
  },
  {
   "cell_type": "code",
   "execution_count": 11,
   "id": "c3e98570",
   "metadata": {},
   "outputs": [
    {
     "data": {
      "text/plain": [
       "WilcoxonResult(statistic=0.0, pvalue=1.0)"
      ]
     },
     "execution_count": 11,
     "metadata": {},
     "output_type": "execute_result"
    }
   ],
   "source": [
    "import scipy.stats as stats\n",
    "stats.wilcoxon(df['mine_before'], df['mine_after'], zero_method='wilcox', correction=False, alternative='greater')"
   ]
  },
  {
   "cell_type": "markdown",
   "id": "43b51aed",
   "metadata": {},
   "source": [
    "## Report"
   ]
  },
  {
   "cell_type": "code",
   "execution_count": 12,
   "id": "febc9fa9",
   "metadata": {},
   "outputs": [
    {
     "name": "stdout",
     "output_type": "stream",
     "text": [
      "p-value annotation legend:\n",
      "      ns: p <= 1.00e+00\n",
      "       *: 1.00e-02 < p <= 5.00e-02\n",
      "      **: 1.00e-03 < p <= 1.00e-02\n",
      "     ***: 1.00e-04 < p <= 1.00e-03\n",
      "    ****: p <= 1.00e-04\n",
      "\n",
      "mine_before vs. mine_after: Custom statistical test, P_val:1.953e-03\n"
     ]
    },
    {
     "data": {
      "image/png": "[encoded data removed]",
      "text/plain": [
       "<Figure size 1080x576 with 1 Axes>"
      ]
     },
     "metadata": {
      "needs_background": "light"
     },
     "output_type": "display_data"
    }
   ],
   "source": [
    "from statannotations.Annotator import Annotator\n",
    "from scipy.stats import mannwhitneyu, normaltest\n",
    "\n",
    "pvalues = [0.001953125]\n",
    "\n",
    "subcat_palette = sns.dark_palette(\"#8BF\", reverse=True, n_colors=5)\n",
    "\n",
    "# Putting the parameters in a dictionary avoids code duplication\n",
    "# since we use the same for `sns.boxplot` and `Annotator` calls\n",
    "plotting_parameters = {\n",
    "    'data':    group_df,\n",
    "    'x':       'players',\n",
    "    'y':       'scores',\n",
    "    'palette': subcat_palette[1:]\n",
    "}\n",
    "\n",
    "pairs = [('mine_before', 'mine_after')]\n",
    "\n",
    "formatted_pvalues = [f\"p={p:.2e}\" for p in pvalues]\n",
    "with sns.plotting_context('notebook', font_scale = 1.4):\n",
    "    \n",
    "    from matplotlib import pyplot as plt\n",
    "    plt.figure(figsize=(15,8))\n",
    "    # Plot with seaborn\n",
    "    ax = sns.boxplot(**plotting_parameters)\n",
    "\n",
    "    # Add annotations\n",
    "    annotator = Annotator(ax, pairs, **plotting_parameters)\n",
    "    annotator.set_pvalues(pvalues)\n",
    "    annotator.annotate()\n",
    "\n",
    "    plt.show()"
   ]
  }
 ],
 "metadata": {
  "kernelspec": {
   "display_name": "Python 3 (ipykernel)",
   "language": "python",
   "name": "python3"
  },
  "language_info": {
   "codemirror_mode": {
    "name": "ipython",
    "version": 3
   },
   "file_extension": ".py",
   "mimetype": "text/x-python",
   "name": "python",
   "nbconvert_exporter": "python",
   "pygments_lexer": "ipython3",
   "version": "3.9.7"
  }
 },
 "nbformat": 4,
 "nbformat_minor": 5
}
